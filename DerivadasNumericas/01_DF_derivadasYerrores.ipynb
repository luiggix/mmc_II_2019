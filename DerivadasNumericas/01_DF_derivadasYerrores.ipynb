{
 "cells": [
  {
   "cell_type": "markdown",
   "metadata": {},
   "source": [
    "# Cálculo de derivadas numéricas y errores\n",
    "### Autor: Luis M. de la Cruz Salas\n",
    "### Rev: 26/06/2020"
   ]
  },
  {
   "cell_type": "code",
   "execution_count": 1,
   "metadata": {},
   "outputs": [],
   "source": [
    "import numpy as np\n",
    "import pandas as pd\n",
    "import matplotlib.pyplot as plt\n",
    "%matplotlib inline"
   ]
  },
  {
   "cell_type": "markdown",
   "metadata": {},
   "source": [
    "Aproximación de la primera derivada usando diferencias finitas hacía adelante (Forward):\n",
    "\n",
    "$\\displaystyle\n",
    "\\frac{\\partial u(x)}{\\partial x} \\approx \\lim\\limits_{h\\to 0} \\frac{u(x+h) - u(x)}{h}\n",
    "$"
   ]
  },
  {
   "cell_type": "code",
   "execution_count": 2,
   "metadata": {},
   "outputs": [],
   "source": [
    "def forwardFD(u,x,h):\n",
    "    \"\"\" Esquema de diferencias finitas hacia adelante\n",
    "    u : es la función a evaluar\n",
    "    x : es la posición\n",
    "    h : es el tamaño de malla.\n",
    "    \"\"\"\n",
    "    return (u(x+h)-u(x))/h"
   ]
  },
  {
   "cell_type": "markdown",
   "metadata": {},
   "source": [
    "* Aproximación de la primera derivada usando diferencias finitas hacía atrás (Backward):\n",
    "\n",
    "$\\displaystyle\n",
    "\\frac{\\partial u(x)}{\\partial x} \\approx \\lim\\limits_{h\\to 0} \\frac{u(x) - u(x-h)}{h}\n",
    "$"
   ]
  },
  {
   "cell_type": "code",
   "execution_count": 3,
   "metadata": {},
   "outputs": [],
   "source": [
    "def backwardFD(u,x,h):\n",
    "    \"\"\" Esquema de diferencias finitas hacia atrás\n",
    "    u : es la función a evaluar\n",
    "    x : es la posición\n",
    "    h : es el tamaño de malla.\n",
    "    \"\"\"\n",
    "    return (u(x)-u(x-h))/h"
   ]
  },
  {
   "cell_type": "markdown",
   "metadata": {},
   "source": [
    "* Aproximación de la primera derivada usando diferencias finitas hacía centradas (Centered):\n",
    "\n",
    "$\\displaystyle\n",
    "\\frac{\\partial u(x)}{\\partial x} \\approx \\lim\\limits_{h\\to 0} \\frac{u(x+h) - u(x-h)}{2h}\n",
    "$"
   ]
  },
  {
   "cell_type": "code",
   "execution_count": 4,
   "metadata": {},
   "outputs": [],
   "source": [
    "def centeredFD(u,x,h):\n",
    "    \"\"\" Esquema de diferencias finitas centradas\n",
    "    u : es la función a evaluar\n",
    "    x : es la posición\n",
    "    h : es el tamaño de malla.\n",
    "    \"\"\"\n",
    "    return (u(x+h)-u(x-h))/(2*h)"
   ]
  },
  {
   "cell_type": "code",
   "execution_count": 5,
   "metadata": {},
   "outputs": [],
   "source": [
    "def u(x):\n",
    "    \"\"\" Esta función es la que deseo evaluar\n",
    "    \"\"\"\n",
    "    return np.sin(x)"
   ]
  },
  {
   "cell_type": "code",
   "execution_count": 6,
   "metadata": {},
   "outputs": [],
   "source": [
    "def uprime(x):\n",
    "    \"\"\" Esta es la derivada de la función f(x) \"\"\"\n",
    "    return np.cos(x)"
   ]
  },
  {
   "cell_type": "code",
   "execution_count": 7,
   "metadata": {},
   "outputs": [],
   "source": [
    "def error(ue, un):\n",
    "    return np.fabs(un - ue)"
   ]
  },
  {
   "cell_type": "code",
   "execution_count": 8,
   "metadata": {},
   "outputs": [],
   "source": [
    "h = np.array([0.1,0.05,0.01,0.005,0.001])"
   ]
  },
  {
   "cell_type": "code",
   "execution_count": 9,
   "metadata": {},
   "outputs": [],
   "source": [
    "unos = np.ones(5)"
   ]
  },
  {
   "cell_type": "code",
   "execution_count": 10,
   "metadata": {},
   "outputs": [],
   "source": [
    "ef = error(uprime(unos),forwardFD(u,1,h))\n",
    "eb = error(uprime(unos),backwardFD(u,1,h))\n",
    "ec = error(uprime(unos),centeredFD(u,1,h))"
   ]
  },
  {
   "cell_type": "code",
   "execution_count": 11,
   "metadata": {},
   "outputs": [
    {
     "data": {
      "text/html": [
       "<div>\n",
       "<style scoped>\n",
       "    .dataframe tbody tr th:only-of-type {\n",
       "        vertical-align: middle;\n",
       "    }\n",
       "\n",
       "    .dataframe tbody tr th {\n",
       "        vertical-align: top;\n",
       "    }\n",
       "\n",
       "    .dataframe thead th {\n",
       "        text-align: right;\n",
       "    }\n",
       "</style>\n",
       "<table border=\"1\" class=\"dataframe\">\n",
       "  <thead>\n",
       "    <tr style=\"text-align: right;\">\n",
       "      <th></th>\n",
       "      <th>$h$</th>\n",
       "      <th>$D_+$</th>\n",
       "      <th>$D_-$</th>\n",
       "      <th>$D_0$</th>\n",
       "    </tr>\n",
       "  </thead>\n",
       "  <tbody>\n",
       "    <tr>\n",
       "      <th>0</th>\n",
       "      <td>0.100</td>\n",
       "      <td>0.042939</td>\n",
       "      <td>0.041138</td>\n",
       "      <td>9.000537e-04</td>\n",
       "    </tr>\n",
       "    <tr>\n",
       "      <th>1</th>\n",
       "      <td>0.050</td>\n",
       "      <td>0.021257</td>\n",
       "      <td>0.020807</td>\n",
       "      <td>2.250978e-04</td>\n",
       "    </tr>\n",
       "    <tr>\n",
       "      <th>2</th>\n",
       "      <td>0.010</td>\n",
       "      <td>0.004216</td>\n",
       "      <td>0.004198</td>\n",
       "      <td>9.004993e-06</td>\n",
       "    </tr>\n",
       "    <tr>\n",
       "      <th>3</th>\n",
       "      <td>0.005</td>\n",
       "      <td>0.002106</td>\n",
       "      <td>0.002101</td>\n",
       "      <td>2.251257e-06</td>\n",
       "    </tr>\n",
       "    <tr>\n",
       "      <th>4</th>\n",
       "      <td>0.001</td>\n",
       "      <td>0.000421</td>\n",
       "      <td>0.000421</td>\n",
       "      <td>9.005045e-08</td>\n",
       "    </tr>\n",
       "  </tbody>\n",
       "</table>\n",
       "</div>"
      ],
      "text/plain": [
       "     $h$     $D_+$     $D_-$         $D_0$\n",
       "0  0.100  0.042939  0.041138  9.000537e-04\n",
       "1  0.050  0.021257  0.020807  2.250978e-04\n",
       "2  0.010  0.004216  0.004198  9.004993e-06\n",
       "3  0.005  0.002106  0.002101  2.251257e-06\n",
       "4  0.001  0.000421  0.000421  9.005045e-08"
      ]
     },
     "execution_count": 11,
     "metadata": {},
     "output_type": "execute_result"
    }
   ],
   "source": [
    "dframe = pd.DataFrame(np.array([h,ef,eb,ec]).transpose(), \n",
    "                      columns=['$h$','$D_+$', '$D_-$','$D_0$'])\n",
    "dframe"
   ]
  },
  {
   "cell_type": "code",
   "execution_count": 12,
   "metadata": {},
   "outputs": [
    {
     "data": {
      "text/plain": [
       "Text(0, 0.5, 'log(error)')"
      ]
     },
     "execution_count": 12,
     "metadata": {},
     "output_type": "execute_result"
    },
    {
     "data": {
      "image/png": "[encoded data removed]",
      "text/plain": [
       "<Figure size 432x288 with 1 Axes>"
      ]
     },
     "metadata": {
      "needs_background": "light"
     },
     "output_type": "display_data"
    }
   ],
   "source": [
    "plt.plot(h,ef,'o-',label='Forward')\n",
    "plt.plot(h,eb,'s-',label='Backward')\n",
    "plt.plot(h,ec,'v-',label='Centered')\n",
    "plt.loglog()\n",
    "plt.legend()\n",
    "plt.xlabel('log($h$)')\n",
    "plt.ylabel('log(error)')"
   ]
  },
  {
   "cell_type": "markdown",
   "metadata": {},
   "source": [
    "### Ejercicio\n",
    "Agregar una función para calcular la derivada con la siguiente aproximación de cuatro puntos:\n",
    "\n",
    "$\n",
    "D_3 u = \\dfrac{1}{6 h} \n",
    "\\left[ 2u_{i+1} + 3u_{i} - 6u_{i-1} + u_{i-2} \\right]\n",
    "$\n",
    "\n",
    "y completar la gráfica con todos los errores."
   ]
  },
  {
   "cell_type": "code",
   "execution_count": 14,
   "metadata": {},
   "outputs": [],
   "source": [
    "def D3(u,x,h):\n",
    "    \"\"\" Esquema de diferencias finitas centradas\n",
    "    u : es la función a evaluar\n",
    "    x : es la posición\n",
    "    h : es el tamaño de malla.\n",
    "    \"\"\"\n",
    "    return (2*u(x+h)+3*u(x)-6*u(x-h)+ u(x-2*h))/(6*h)"
   ]
  },
  {
   "cell_type": "code",
   "execution_count": 15,
   "metadata": {},
   "outputs": [],
   "source": [
    "e3 = error(uprime(unos),D3(u,1,h))"
   ]
  },
  {
   "cell_type": "code",
   "execution_count": 16,
   "metadata": {},
   "outputs": [
    {
     "data": {
      "text/html": [
       "<div>\n",
       "<style scoped>\n",
       "    .dataframe tbody tr th:only-of-type {\n",
       "        vertical-align: middle;\n",
       "    }\n",
       "\n",
       "    .dataframe tbody tr th {\n",
       "        vertical-align: top;\n",
       "    }\n",
       "\n",
       "    .dataframe thead th {\n",
       "        text-align: right;\n",
       "    }\n",
       "</style>\n",
       "<table border=\"1\" class=\"dataframe\">\n",
       "  <thead>\n",
       "    <tr style=\"text-align: right;\">\n",
       "      <th></th>\n",
       "      <th>$h$</th>\n",
       "      <th>$D_+$</th>\n",
       "      <th>$D_-$</th>\n",
       "      <th>$D_0$</th>\n",
       "      <th>$D_3$</th>\n",
       "    </tr>\n",
       "  </thead>\n",
       "  <tbody>\n",
       "    <tr>\n",
       "      <th>0</th>\n",
       "      <td>0.100</td>\n",
       "      <td>0.042939</td>\n",
       "      <td>0.041138</td>\n",
       "      <td>9.000537e-04</td>\n",
       "      <td>6.820693e-05</td>\n",
       "    </tr>\n",
       "    <tr>\n",
       "      <th>1</th>\n",
       "      <td>0.050</td>\n",
       "      <td>0.021257</td>\n",
       "      <td>0.020807</td>\n",
       "      <td>2.250978e-04</td>\n",
       "      <td>8.649142e-06</td>\n",
       "    </tr>\n",
       "    <tr>\n",
       "      <th>2</th>\n",
       "      <td>0.010</td>\n",
       "      <td>0.004216</td>\n",
       "      <td>0.004198</td>\n",
       "      <td>9.004993e-06</td>\n",
       "      <td>6.994130e-08</td>\n",
       "    </tr>\n",
       "    <tr>\n",
       "      <th>3</th>\n",
       "      <td>0.005</td>\n",
       "      <td>0.002106</td>\n",
       "      <td>0.002101</td>\n",
       "      <td>2.251257e-06</td>\n",
       "      <td>8.754029e-09</td>\n",
       "    </tr>\n",
       "    <tr>\n",
       "      <th>4</th>\n",
       "      <td>0.001</td>\n",
       "      <td>0.000421</td>\n",
       "      <td>0.000421</td>\n",
       "      <td>9.005045e-08</td>\n",
       "      <td>6.997947e-11</td>\n",
       "    </tr>\n",
       "  </tbody>\n",
       "</table>\n",
       "</div>"
      ],
      "text/plain": [
       "     $h$     $D_+$     $D_-$         $D_0$         $D_3$\n",
       "0  0.100  0.042939  0.041138  9.000537e-04  6.820693e-05\n",
       "1  0.050  0.021257  0.020807  2.250978e-04  8.649142e-06\n",
       "2  0.010  0.004216  0.004198  9.004993e-06  6.994130e-08\n",
       "3  0.005  0.002106  0.002101  2.251257e-06  8.754029e-09\n",
       "4  0.001  0.000421  0.000421  9.005045e-08  6.997947e-11"
      ]
     },
     "execution_count": 16,
     "metadata": {},
     "output_type": "execute_result"
    }
   ],
   "source": [
    "dframe = pd.DataFrame(np.array([h,ef,eb,ec, e3]).transpose(), \n",
    "                      columns=['$h$','$D_+$', '$D_-$','$D_0$', '$D_3$'])\n",
    "dframe"
   ]
  },
  {
   "cell_type": "code",
   "execution_count": 17,
   "metadata": {},
   "outputs": [
    {
     "data": {
      "text/plain": [
       "Text(0, 0.5, 'log(error)')"
      ]
     },
     "execution_count": 17,
     "metadata": {},
     "output_type": "execute_result"
    },
    {
     "data": {
      "image/png": "[encoded data removed]",
      "text/plain": [
       "<Figure size 432x288 with 1 Axes>"
      ]
     },
     "metadata": {
      "needs_background": "light"
     },
     "output_type": "display_data"
    }
   ],
   "source": [
    "plt.plot(h,ef,'o-',label='Forward')\n",
    "plt.plot(h,eb,'s-',label='Backward')\n",
    "plt.plot(h,ec,'v-',label='Centered')\n",
    "plt.plot(h,e3,'v-',label='D3')\n",
    "\n",
    "plt.loglog()\n",
    "plt.legend()\n",
    "plt.xlabel('log($h$)')\n",
    "plt.ylabel('log(error)')"
   ]
  },
  {
   "cell_type": "code",
   "execution_count": null,
   "metadata": {},
   "outputs": [],
   "source": []
  }
 ],
 "metadata": {
  "kernelspec": {
   "display_name": "Python 3",
   "language": "python",
   "name": "python3"
  },
  "language_info": {
   "codemirror_mode": {
    "name": "ipython",
    "version": 3
   },
   "file_extension": ".py",
   "mimetype": "text/x-python",
   "name": "python",
   "nbconvert_exporter": "python",
   "pygments_lexer": "ipython3",
   "version": "3.7.6"
  }
 },
 "nbformat": 4,
 "nbformat_minor": 2
}

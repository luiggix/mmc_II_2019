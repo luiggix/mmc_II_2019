{
 "cells": [
  {
   "cell_type": "markdown",
   "metadata": {},
   "source": [
    "# Cálculo de derivadas numéricas y errores\n",
    "## Proyecto PAPIME PE101019\n",
    "- Autor: Luis M. de la Cruz Salas\n",
    "- Rev: lun jul  6 19:29:17 CDT 2020"
   ]
  },
  {
   "cell_type": "code",
   "execution_count": null,
   "metadata": {},
   "outputs": [],
   "source": [
    "import numpy as np\n",
    "import pandas as pd\n",
    "from sympy import Symbol, cos, sin, exp, tan\n",
    "import FD\n",
    "import matplotlib.pyplot as plt\n",
    "%matplotlib inline\n",
    "plt.style.use('seaborn-talk')"
   ]
  },
  {
   "cell_type": "code",
   "execution_count": null,
   "metadata": {},
   "outputs": [],
   "source": [
    "params = {'figure.figsize' : (10,5),\n",
    "#          'text.usetex'    : True,\n",
    "          'xtick.labelsize': 15,\n",
    "          'ytick.labelsize': 15,\n",
    "          'axes.labelsize' : 20,\n",
    "          'axes.titlesize' : 20,\n",
    "          'legend.fontsize': 15,\n",
    "          'lines.linewidth'     : 3}\n",
    "\n",
    "plt.rcParams.update(params)"
   ]
  },
  {
   "cell_type": "code",
   "execution_count": null,
   "metadata": {},
   "outputs": [],
   "source": [
    "from ipywidgets import interact, interactive, fixed\n",
    "import ipywidgets as widgets"
   ]
  },
  {
   "cell_type": "code",
   "execution_count": null,
   "metadata": {},
   "outputs": [],
   "source": [
    "x = Symbol('x')\n",
    "lista_funciones = [cos(x), sin(x), exp(x), exp(x)*cos(x), tan(x), sin(x)*x**2]\n",
    "opciones_aprox = ['Forward', 'Backward', 'Centered', 'All']\n",
    "w = interact(FD.numericalDer,\n",
    "             f = widgets.Dropdown(options=lista_funciones, value=cos(x), description='Función'), \n",
    "             x0 = widgets.FloatSlider(min=-2, max=2, step=0.5, value=0),\n",
    "             h = widgets.FloatSlider(min=0.01, max=1.0, step=0.1, value=1.0),\n",
    "             aprox = widgets.Dropdown(options=opciones_aprox, value='Forward', description='Aproximación'))\n",
    "\n",
    "display(w)"
   ]
  },
  {
   "cell_type": "code",
   "execution_count": null,
   "metadata": {},
   "outputs": [],
   "source": []
  }
 ],
 "metadata": {
  "kernelspec": {
   "display_name": "Python 3",
   "language": "python",
   "name": "python3"
  },
  "language_info": {
   "codemirror_mode": {
    "name": "ipython",
    "version": 3
   },
   "file_extension": ".py",
   "mimetype": "text/x-python",
   "name": "python",
   "nbconvert_exporter": "python",
   "pygments_lexer": "ipython3",
   "version": "3.7.6"
  }
 },
 "nbformat": 4,
 "nbformat_minor": 4
}

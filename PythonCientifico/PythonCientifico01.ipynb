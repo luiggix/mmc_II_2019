{
 "cells": [
  {
   "cell_type": "markdown",
   "metadata": {},
   "source": [
    "# Ejemplo: El huevo cocido perfecto\n",
    "\n",
    "## Geofísica Matemática y Computacional\n",
    "\n",
    "- Prof. Luis Miguel de la Cruz Salas\n",
    "- Rev: lun sep 28 20:17:37 CDT 2020"
   ]
  },
  {
   "cell_type": "markdown",
   "metadata": {},
   "source": [
    "## Fórmula para calcular el tiempo de cocción.\n",
    "La siguiente fórmula expresa el tiempo $t$, en segundos, que le toma a la yema alcanzar la temperatura $T_y$, en grados Celsius.\n",
    "\n",
    "$$\n",
    "t = \\dfrac{M^{2/3} c \\rho^{1/3}}{K \\pi^2 (4\\pi/3)^{2/3}} \\ln \\left[ 0.76 \\dfrac{T_o - T_w}{T_y - T_w}\\right]\n",
    "$$\n",
    "\n",
    "donde las propiedades son:\n",
    "\n",
    "- $M$ masa; \n",
    "- $\\rho$ densidad; \n",
    "- $c$ capacidad calorífica específica; \n",
    "- $K$ conductividad térmica; \n",
    "- $T_w$ es la temperatura de ebullición del agua y \n",
    "- $T_o$ es la temperatura original del huevo antes de meterlo al agua. \n",
    "- $T_y$ es la temperatura final de la yema. \n",
    "\n",
    "**Huevo suave**: La clara necesita calentarse lo suficiente para coagular a una temperatura de 63 $^o$C, pero la yema no debe llegar a los 70 $^o$C.\n",
    "\n",
    "**Huevo duro**: La yema debe calentarse a 70 $^o$C."
   ]
  },
  {
   "cell_type": "markdown",
   "metadata": {},
   "source": [
    "### Ejercicio 0.\n",
    "Hagamos el cálculo para un huevo pequeño. (La masa de un huevo grande es 67 g)\n",
    "\n",
    "- $M$ = 47 g \n",
    "- $\\rho$ = 1.038 g / cm$^3$\n",
    "- $c$ = 3.7 J / g K\n",
    "- $K$ = 5.4 $\\times 10^{-3}$ W / cm K\n",
    "- $T_w$ = 100 $^o$C\n",
    "- $T_y$ = 70 $^o$C\n",
    "\n",
    "Temperatura original del huevo:\n",
    "- Temperatura ambiente: $T_o$ = 20 $^o$C.\n",
    "- Temperatura en el refrigerador: $T_o$ = 4 $^o$C."
   ]
  },
  {
   "cell_type": "code",
   "execution_count": null,
   "metadata": {},
   "outputs": [],
   "source": [
    "# Datos iniciales\n",
    "M = 47 # [g]\n",
    "rho = 1.038 # [g /cm^3]\n",
    "c = 3.7 # [J / g K]\n",
    "K = 5.4e-3 # [W / cm K]"
   ]
  },
  {
   "cell_type": "code",
   "execution_count": null,
   "metadata": {},
   "outputs": [],
   "source": [
    "# Numerador\n",
    "numerador = M**(2/3) * c * rho**(1/3)"
   ]
  },
  {
   "cell_type": "code",
   "execution_count": null,
   "metadata": {},
   "outputs": [],
   "source": [
    "print(numerador)"
   ]
  },
  {
   "cell_type": "markdown",
   "metadata": {},
   "source": [
    "Para calcular el denominador necesitamos el valor de $\\pi$. La biblioteca matemática `math` contiene, entre otras cosas, constantes que son muy usadas en cálculos. La podemos importar como sigue:\n",
    "\n",
    "```python \n",
    "import math\n",
    "```\n",
    "\n",
    "y luego para usar un objeto de la biblioteca `math`, por ejemplo el valor de $\\pi$ en la fórmula de cálculo de el área de un círculo, hacemos:\n",
    "\n",
    "```python \n",
    "area = math.pi * radio**2\n",
    "```"
   ]
  },
  {
   "cell_type": "code",
   "execution_count": null,
   "metadata": {},
   "outputs": [],
   "source": [
    "import math"
   ]
  },
  {
   "cell_type": "code",
   "execution_count": null,
   "metadata": {},
   "outputs": [],
   "source": [
    "denominador = K * math.pi**2 * (4 * math.pi / 3)**(2/3)"
   ]
  },
  {
   "cell_type": "code",
   "execution_count": null,
   "metadata": {},
   "outputs": [],
   "source": [
    "print(denominador)"
   ]
  },
  {
   "cell_type": "markdown",
   "metadata": {},
   "source": [
    "**Otras maneras de importar una biblioteca son las siguientes**\n",
    "\n",
    "- Importar la biblioteca y ponerle otro nombre:\n",
    "\n",
    "```python \n",
    "import math as m \n",
    "\n",
    "area = m.pi * radio**2\n",
    "```\n",
    "- Importar solo un objeto de la biblioteca:\n",
    "\n",
    "```python \n",
    "from math import pi\n",
    "\n",
    "area = pi * radio**2\n",
    "```\n",
    "\n",
    "- Importar solo un objeto de la biblioteca y a éste ponerle otro nombre:\n",
    "\n",
    "```python \n",
    "from math import pi as PI\n",
    "\n",
    "area = PI * radio**2\n",
    "```\n"
   ]
  },
  {
   "cell_type": "code",
   "execution_count": null,
   "metadata": {},
   "outputs": [],
   "source": [
    "To = 20\n",
    "Tw = 100 \n",
    "Ty = 70 \n",
    "T = (To - Tw) / (Ty - Tw)\n",
    "\n",
    "t0 = (numerador /denominador) * math.log(0.76 * T)\n",
    "print('t0 = ', t0)"
   ]
  },
  {
   "cell_type": "markdown",
   "metadata": {},
   "source": [
    "### Ejercicio 1. \n",
    "Escribir una función que transforme el resultado a minutos y segundos; luego escribir el resultado en el siguiente formato:\n",
    "\n",
    "```python\n",
    "El tiempo de cocción óptimo es: M minutos con S segundos\n",
    "```\n",
    "**Versión 1**."
   ]
  },
  {
   "cell_type": "code",
   "execution_count": null,
   "metadata": {},
   "outputs": [],
   "source": [
    "def to_minutos_0(ts):\n",
    "    segundos = ts % 60\n",
    "    minutos = int(ts / 60)\n",
    "    return (minutos, segundos)"
   ]
  },
  {
   "cell_type": "code",
   "execution_count": null,
   "metadata": {},
   "outputs": [],
   "source": [
    "(m, s) = to_minutos_0(t0)\n",
    "print('El tiempo de cocción óptimo es: {} minutos con {} segundos'.format(m, s))"
   ]
  },
  {
   "cell_type": "code",
   "execution_count": null,
   "metadata": {},
   "outputs": [],
   "source": [
    "(m, s) = to_minutos_0(t0)\n",
    "print('El tiempo de cocción óptimo es: {} minutos con {:2.0f} segundos'.format(m, s))"
   ]
  },
  {
   "cell_type": "code",
   "execution_count": null,
   "metadata": {},
   "outputs": [],
   "source": [
    "print('El tiempo de cocción óptimo es: {} minutos con {:2.0f} segundos'.format(to_minutos_0(t0)[0],\n",
    "                                                                               to_minutos_0(t0)[1]))"
   ]
  },
  {
   "cell_type": "markdown",
   "metadata": {},
   "source": [
    "**Versión 2**."
   ]
  },
  {
   "cell_type": "code",
   "execution_count": null,
   "metadata": {},
   "outputs": [],
   "source": [
    "def to_minutos_1(ts):\n",
    "    return int(ts / 60), ts % 60"
   ]
  },
  {
   "cell_type": "code",
   "execution_count": null,
   "metadata": {},
   "outputs": [],
   "source": [
    "(m, s) = to_minutos_1(t0)\n",
    "print('El tiempo de cocción óptimo es: {} minutos con {:2.0f} segundos'.format(m, s))"
   ]
  },
  {
   "cell_type": "markdown",
   "metadata": {},
   "source": [
    "**Versión 3**. (Lambda function)"
   ]
  },
  {
   "cell_type": "code",
   "execution_count": null,
   "metadata": {},
   "outputs": [],
   "source": [
    "to_minutos_2 = lambda ts: (int(ts / 60), ts % 60)"
   ]
  },
  {
   "cell_type": "code",
   "execution_count": null,
   "metadata": {},
   "outputs": [],
   "source": [
    "(m, s) = to_minutos_2(t0)\n",
    "print('El tiempo de cocción óptimo es: {} minutos con {:2.0f} segundos'.format(m, s))"
   ]
  },
  {
   "cell_type": "markdown",
   "metadata": {},
   "source": [
    "### Ejercicio 2.  \n",
    "Calcular el tiempo de cocción óptimo para cocinar el mismo huevo duro, pero esta vez recién sacado del refrigerador ($T_o = 4^o C$). Luego calcular la diferencia con el resultado anterior.\n",
    "\n",
    "Primero vamos a escribir una función para evaluar toda la fórmula:\n",
    "\n",
    "$t = \\dfrac{M^{2/3} c \\rho^{1/3}}{K \\pi^2 (4\\pi/3)^{2/3}} \\ln \\left[ 0.76 \\dfrac{T_o - T_w}{T_y - T_w}\\right]$"
   ]
  },
  {
   "cell_type": "code",
   "execution_count": null,
   "metadata": {},
   "outputs": [],
   "source": [
    "def huevoCocido(M, c, ρ, K, To, Tw = 100, Ty = 70):\n",
    "    num = M**(2/3) * c * rho**(1/3)\n",
    "    den = K * math.pi**2 * (4 * math.pi / 3)**(2/3)    \n",
    "    T = (To - Tw) / (Ty - Tw)\n",
    "    return (num /den) * math.log(0.76 * T)\n",
    "#    return (num /den) * np.log(0.76 * T)"
   ]
  },
  {
   "cell_type": "code",
   "execution_count": null,
   "metadata": {},
   "outputs": [],
   "source": [
    "ρ = rho\n",
    "t1 = huevoCocido(M, c, ρ, K, To = 4)"
   ]
  },
  {
   "cell_type": "code",
   "execution_count": null,
   "metadata": {},
   "outputs": [],
   "source": [
    "(m, s) = to_minutos_2(t1)\n",
    "print('El tiempo de cocción óptimo es: {} minutos con {:2.0f} segundos'.format(m, s))"
   ]
  },
  {
   "cell_type": "code",
   "execution_count": null,
   "metadata": {},
   "outputs": [],
   "source": [
    "(m, s) = to_minutos_2(huevoCocido(M, c, ρ, K, To = 4))\n",
    "print('El tiempo de cocción óptimo es: {} minutos con {:2.0f} segundos'.format(m, s))"
   ]
  },
  {
   "cell_type": "markdown",
   "metadata": {},
   "source": [
    "Ahora calculamos la diferencia entre t0 y t1:"
   ]
  },
  {
   "cell_type": "code",
   "execution_count": null,
   "metadata": {},
   "outputs": [],
   "source": [
    "(m, s) = to_minutos_2(math.fabs(t0 - t1))\n",
    "print('El tiempo de cocción óptimo es: {} minutos con {:2.0f} segundos'.format(m, s))"
   ]
  },
  {
   "cell_type": "markdown",
   "metadata": {},
   "source": [
    "### Ejercicio 3. (Numpy y Pandas)\n",
    "Hacer una lista de tiempos para temperaturas del huevo, desde la que se tiene en el refrigerador hasta temperatura ambiente, en pasos de 1$^o$C."
   ]
  },
  {
   "cell_type": "code",
   "execution_count": null,
   "metadata": {},
   "outputs": [],
   "source": [
    "Tl = []\n",
    "tl = []\n",
    "for i in range(4,21):\n",
    "    Tl.append(i)\n",
    "    t = huevoCocido(M, c, ρ, K, i)\n",
    "    tl.append(t)\n",
    "print(Tl)\n",
    "print(tl)"
   ]
  },
  {
   "cell_type": "markdown",
   "metadata": {},
   "source": [
    "Vamos a imprimir en un formato más legible usando Numpy y Pandas:"
   ]
  },
  {
   "cell_type": "code",
   "execution_count": null,
   "metadata": {},
   "outputs": [],
   "source": [
    "import numpy as np\n",
    "import pandas as pd"
   ]
  },
  {
   "cell_type": "code",
   "execution_count": null,
   "metadata": {},
   "outputs": [],
   "source": [
    "df = pd.DataFrame(Tl, tl)"
   ]
  },
  {
   "cell_type": "code",
   "execution_count": null,
   "metadata": {},
   "outputs": [],
   "source": [
    "df"
   ]
  },
  {
   "cell_type": "code",
   "execution_count": null,
   "metadata": {},
   "outputs": [],
   "source": [
    "df = pd.DataFrame(np.asarray([Tl, tl]))\n",
    "df"
   ]
  },
  {
   "cell_type": "code",
   "execution_count": null,
   "metadata": {},
   "outputs": [],
   "source": [
    "df = pd.DataFrame(np.asarray([Tl, tl]).T)\n",
    "df"
   ]
  },
  {
   "cell_type": "code",
   "execution_count": null,
   "metadata": {},
   "outputs": [],
   "source": [
    "df = pd.DataFrame(np.asarray([Tl, tl]).T, columns=['T $^o$ [C]', 't [s]'], index=list(range(1, len(Tl)+1)))\n",
    "df"
   ]
  },
  {
   "cell_type": "code",
   "execution_count": null,
   "metadata": {},
   "outputs": [],
   "source": [
    "ml = []\n",
    "sl = []\n",
    "\n",
    "for ti in tl:\n",
    "    (m, s) = to_minutos_2(ti)\n",
    "    ml.append(m)\n",
    "    sl.append(s)\n",
    "\n",
    "df['Min'] = ml\n",
    "df['Sec'] = sl\n",
    "df"
   ]
  },
  {
   "cell_type": "code",
   "execution_count": null,
   "metadata": {},
   "outputs": [],
   "source": [
    "df.plot()"
   ]
  },
  {
   "cell_type": "code",
   "execution_count": null,
   "metadata": {},
   "outputs": [],
   "source": [
    "df.to_csv('huevo.csv')"
   ]
  },
  {
   "cell_type": "markdown",
   "metadata": {},
   "source": [
    "### Ejercicio 4.\n",
    "Graficar $T$ vs $t$ para la lista que se calculó. Luego, calcular todas las listas de tiempo para cuando la masa del huevo cambia de $47$ a $67$ gramos."
   ]
  },
  {
   "cell_type": "code",
   "execution_count": null,
   "metadata": {},
   "outputs": [],
   "source": [
    "import matplotlib.pyplot as plt\n",
    "%matplotlib inline"
   ]
  },
  {
   "cell_type": "code",
   "execution_count": null,
   "metadata": {},
   "outputs": [],
   "source": [
    "plt.plot(Tl, tl)"
   ]
  },
  {
   "cell_type": "code",
   "execution_count": null,
   "metadata": {},
   "outputs": [],
   "source": [
    "plt.plot(Tl, tl, 'o-', lw=2, c='red', label='$T$ vs $t$')\n",
    "plt.legend()\n",
    "plt.show()"
   ]
  },
  {
   "cell_type": "markdown",
   "metadata": {},
   "source": [
    "Grafiquemos ahora para $M = 47, \\dots, 67$ y $T = 4, \\dots, 20$:"
   ]
  },
  {
   "cell_type": "code",
   "execution_count": null,
   "metadata": {},
   "outputs": [],
   "source": [
    "Ml = list(range(47,68,2))\n",
    "for Mi in Ml:\n",
    "    y = [huevoCocido(Mi, c, ρ, K, Ti) for Ti in Tl]\n",
    "    plt.plot(Tl, y)"
   ]
  },
  {
   "cell_type": "code",
   "execution_count": null,
   "metadata": {},
   "outputs": [],
   "source": [
    "for Mi in Ml:\n",
    "    plt.plot(Tl, \n",
    "             [huevoCocido(Mi, c, ρ, K, Ti) for Ti in Tl], \n",
    "             '.-',\n",
    "             label='$M$ = {}'.format(Mi))\n",
    "\n",
    "plt.legend(bbox_to_anchor=(1,1))\n",
    "plt.show()"
   ]
  },
  {
   "cell_type": "code",
   "execution_count": null,
   "metadata": {},
   "outputs": [],
   "source": [
    "for Mi in Ml:\n",
    "    plt.plot(Tl, \n",
    "             [huevoCocido(Mi, c, ρ, K, Ti) for Ti in Tl], \n",
    "             '.-',\n",
    "             label='$M$ = {}'.format(Mi))\n",
    "\n",
    "plt.title('Huevo Cocido Perfecto', fontsize=20, color='C4')\n",
    "plt.xlabel('$T ^o$C', fontsize=20)\n",
    "plt.ylabel('$t$ [s]', fontsize=20)\n",
    "plt.grid()\n",
    "plt.legend(bbox_to_anchor=(1,1))\n",
    "plt.show()"
   ]
  },
  {
   "cell_type": "markdown",
   "metadata": {},
   "source": [
    "### Ejercicio 6.\n",
    "Realizar una gráfica 3D: $(T, M, t)$"
   ]
  },
  {
   "cell_type": "code",
   "execution_count": null,
   "metadata": {},
   "outputs": [],
   "source": [
    "# This import registers the 3D projection, but is otherwise unused.\n",
    "from mpl_toolkits.mplot3d import Axes3D  # noqa: F401 unused import"
   ]
  },
  {
   "cell_type": "code",
   "execution_count": null,
   "metadata": {},
   "outputs": [],
   "source": [
    "Tg, Mg = np.meshgrid(Tl, Ml)\n",
    "print(type(Tg), type(Mg))"
   ]
  },
  {
   "cell_type": "code",
   "execution_count": null,
   "metadata": {},
   "outputs": [],
   "source": [
    "tg = huevoCocido(Mg, c, ρ, K, Tg)\n",
    "print(type(zg))"
   ]
  },
  {
   "cell_type": "code",
   "execution_count": null,
   "metadata": {},
   "outputs": [],
   "source": [
    "fig = plt.figure()\n",
    "ax = fig.gca(projection='3d')\n",
    "\n",
    "# Graficamos una superficie\n",
    "surf = ax.plot_surface(Tg, Mg, tg)"
   ]
  },
  {
   "cell_type": "code",
   "execution_count": null,
   "metadata": {},
   "outputs": [],
   "source": [
    "fig = plt.figure()\n",
    "ax = fig.gca(projection='3d')\n",
    "\n",
    "# Graficamos una superficie\n",
    "surf = ax.plot_surface(Tg, Mg, tg, cmap='coolwarm')"
   ]
  },
  {
   "cell_type": "code",
   "execution_count": null,
   "metadata": {},
   "outputs": [],
   "source": [
    "from matplotlib.ticker import LinearLocator, FormatStrFormatter\n",
    "\n",
    "fig = plt.figure()\n",
    "ax = fig.gca(projection='3d')\n",
    "\n",
    "# Graficamos una superficie\n",
    "surf = ax.plot_surface(Tg, Mg, tg, cmap='coolwarm', linewidth=0, antialiased=False)\n",
    "\n",
    "ax.zaxis.set_major_locator(LinearLocator(5))\n",
    "ax.zaxis.set_major_formatter(FormatStrFormatter('%.02f'))\n",
    "ax.set_xlabel('$T$')\n",
    "ax.set_ylabel('$M$')\n",
    "ax.set_zlabel('$t$')\n",
    "fig.colorbar(surf, shrink=0.5, aspect=5)\n",
    "\n",
    "plt.show()"
   ]
  },
  {
   "cell_type": "code",
   "execution_count": null,
   "metadata": {},
   "outputs": [],
   "source": [
    "%matplotlib notebook\n",
    "\n",
    "fig = plt.figure()\n",
    "ax = fig.gca(projection='3d')\n",
    "\n",
    "# Graficamos una superficie\n",
    "surf = ax.plot_surface(Tg, Mg, tg, cmap='coolwarm', linewidth=0, antialiased=False)\n",
    "\n",
    "ax.zaxis.set_major_locator(LinearLocator(5))\n",
    "ax.zaxis.set_major_formatter(FormatStrFormatter('%.02f'))\n",
    "ax.set_xlabel('$T$')\n",
    "ax.set_ylabel('$M$')\n",
    "ax.set_zlabel('$t$')\n",
    "fig.colorbar(surf, shrink=0.5, aspect=5)\n",
    "plt.show()"
   ]
  },
  {
   "cell_type": "code",
   "execution_count": null,
   "metadata": {},
   "outputs": [],
   "source": []
  }
 ],
 "metadata": {
  "kernelspec": {
   "display_name": "Python 3",
   "language": "python",
   "name": "python3"
  },
  "language_info": {
   "codemirror_mode": {
    "name": "ipython",
    "version": 3
   },
   "file_extension": ".py",
   "mimetype": "text/x-python",
   "name": "python",
   "nbconvert_exporter": "python",
   "pygments_lexer": "ipython3",
   "version": "3.7.6"
  }
 },
 "nbformat": 4,
 "nbformat_minor": 2
}

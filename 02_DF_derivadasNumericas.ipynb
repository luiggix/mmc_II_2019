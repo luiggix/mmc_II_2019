{
 "cells": [
  {
   "cell_type": "code",
   "execution_count": 3,
   "metadata": {},
   "outputs": [],
   "source": [
    "import numpy as np\n",
    "import matplotlib.pyplot as plt\n",
    "import FDMnum as DF"
   ]
  },
  {
   "cell_type": "code",
   "execution_count": null,
   "metadata": {},
   "outputs": [],
   "source": [
    "def masa(x):\n",
    "    \"\"\" Esta función calcula la masa de una barra en un\n",
    "    punto dado.\n",
    "    x : punto.\n",
    "    \"\"\"\n",
    "    return -2.5 * (x-6) ** 2 + 100\n",
    "#    return -2.5 * (x-6) ** 2 + 20 * np.sin(x)"
   ]
  },
  {
   "cell_type": "code",
   "execution_count": null,
   "metadata": {},
   "outputs": [],
   "source": [
    "def densidad(x):\n",
    "    \"\"\" La densidad lineal de la barra.\n",
    "    Es la derivada de la función de masa.\n",
    "    \"\"\"\n",
    "    return -5 * (x-6)\n",
    "#    return -5 * (x - 6) + 20 * np.cos(x)"
   ]
  },
  {
   "cell_type": "code",
   "execution_count": null,
   "metadata": {},
   "outputs": [],
   "source": [
    "def recta(x,x0,x1,y0,y1):\n",
    "    \"\"\"\n",
    "    Dados dos puntos en el plano, cálcula la pendiente de\n",
    "    la recta que pasa por esos puntos y regresa los puntos\n",
    "    que pasan por esa recta.\n",
    "    \"\"\"\n",
    "    return ((y1-y0)/(x1-x0))*(x-x0) + y0"
   ]
  },
  {
   "cell_type": "code",
   "execution_count": 4,
   "metadata": {},
   "outputs": [],
   "source": [
    "Lx = 10.0\n",
    "Nx = 30\n",
    "x = np.linspace(0,Lx,Nx)\n",
    "h = Lx / (Nx - 1)"
   ]
  },
  {
   "cell_type": "code",
   "execution_count": null,
   "metadata": {},
   "outputs": [],
   "source": [
    "m = masa(x)\n",
    "d = densidad(x)"
   ]
  },
  {
   "cell_type": "code",
   "execution_count": null,
   "metadata": {},
   "outputs": [],
   "source": [
    "plt.plot(x,m,'.-',lw=2,label='Masa')\n",
    "plt.plot(x,d,'.-',lw=2,label='Densidad')\n",
    "plt.grid()\n",
    "plt.xlabel('$x$')\n",
    "plt.ylabel('masa')\n",
    "plt.legend()\n",
    "plt.show()"
   ]
  },
  {
   "cell_type": "code",
   "execution_count": null,
   "metadata": {},
   "outputs": [],
   "source": [
    "i = int(Nx / 2)\n",
    "xi   = x[i]\n",
    "xip1 = x[i+1]\n",
    "xim1 = x[i-1]\n",
    "yi   = masa(xi)\n",
    "yip1 = masa(xip1)\n",
    "yim1 = masa(xim1)"
   ]
  },
  {
   "cell_type": "code",
   "execution_count": null,
   "metadata": {},
   "outputs": [],
   "source": [
    "rf = recta(x,xi,xip1,yi,yip1)\n",
    "rb = recta(x,xi,xim1,yi,yim1)\n",
    "rc = recta(x,xim1,xip1,yim1,yip1)"
   ]
  },
  {
   "cell_type": "code",
   "execution_count": null,
   "metadata": {},
   "outputs": [],
   "source": [
    "plt.plot(x,m,'.-',lw=4,label='Masa')\n",
    "plt.plot(xim1,yim1,'s',xi,yi,'o',xip1, yip1,'v')\n",
    "plt.plot(x,rf,label='Forward')\n",
    "plt.plot(x,rb,label='Backward')\n",
    "plt.plot(x,rc,label='Centered')\n",
    "plt.grid()\n",
    "plt.xlabel('$x$')\n",
    "plt.ylabel('masa')\n",
    "plt.legend()\n",
    "plt.show()"
   ]
  },
  {
   "cell_type": "code",
   "execution_count": null,
   "metadata": {},
   "outputs": [],
   "source": [
    "df = DF.forwardFD(masa,x,h)\n",
    "db = DF.backwardFD(masa,x,h)\n",
    "dc = DF.centeredFD(masa,x,h)\n",
    "print(len(d),len(df),len(db))"
   ]
  },
  {
   "cell_type": "code",
   "execution_count": null,
   "metadata": {},
   "outputs": [],
   "source": [
    "plt.plot(x,d,'-',lw = 4, label='Densidad')\n",
    "plt.plot(x,df,'.-',label='Forward')\n",
    "plt.plot(x,db,'.-',label='Backward')\n",
    "plt.plot(x,dc,'.-',label='Centered')\n",
    "plt.grid()\n",
    "plt.xlabel('$x$')\n",
    "plt.ylabel('densidad')\n",
    "plt.legend()\n",
    "plt.show()"
   ]
  },
  {
   "cell_type": "code",
   "execution_count": null,
   "metadata": {},
   "outputs": [],
   "source": [
    "ef = DF.error(d,df)\n",
    "eb = DF.error(d,db)\n",
    "ec = DF.error(d,dc)"
   ]
  },
  {
   "cell_type": "code",
   "execution_count": null,
   "metadata": {},
   "outputs": [],
   "source": [
    "plt.plot(x,ef,label='Forward')\n",
    "plt.plot(x,eb,label='Backward')\n",
    "plt.plot(x,ec,label='Centered')\n",
    "plt.legend()\n",
    "plt.grid()\n",
    "plt.show()"
   ]
  },
  {
   "cell_type": "markdown",
   "metadata": {},
   "source": [
    "## Error cuadrático medio (Root Mean Squared Error)\n",
    "$\\displaystyle RMS = \\sqrt{\\frac{1}{N} \\sum_{i=0}^N (ue_i - un_i)^2}$ "
   ]
  },
  {
   "cell_type": "code",
   "execution_count": null,
   "metadata": {},
   "outputs": [],
   "source": [
    "def errorRMS(ue, un):\n",
    "    \"\"\" Error cuadrático medio\n",
    "    ue : valor exacto\n",
    "    un : valor numérico aprximado\n",
    "    \"\"\"\n",
    "#    return np.linalg.norm(ue-un) / np.sqrt(len(ue))\n",
    "    return np.sqrt(((ue - un) ** 2).mean())"
   ]
  },
  {
   "cell_type": "code",
   "execution_count": null,
   "metadata": {},
   "outputs": [],
   "source": [
    "rmsf = errorRMS(d,df)\n",
    "rmsb = errorRMS(d,db)\n",
    "rmsc = errorRMS(d,dc)\n",
    "\n",
    "print(rmsf,rmsb,rmsc)"
   ]
  },
  {
   "cell_type": "markdown",
   "metadata": {},
   "source": [
    "## Uso de la función eval()"
   ]
  },
  {
   "cell_type": "code",
   "execution_count": 6,
   "metadata": {},
   "outputs": [
    {
     "name": "stdout",
     "output_type": "stream",
     "text": [
      "Escribe la funcion:5*np.cos(x)+2*(x-5)**2\n"
     ]
    }
   ],
   "source": [
    "funcion = input('Escribe la funcion:')\n",
    "# ejemplo: 5*np.cos(x)+2*(x-5)**2"
   ]
  },
  {
   "cell_type": "code",
   "execution_count": 7,
   "metadata": {},
   "outputs": [
    {
     "name": "stdout",
     "output_type": "stream",
     "text": [
      "<class 'str'> 5*np.cos(x)+2*(x-5)**2\n"
     ]
    }
   ],
   "source": [
    "print(type(funcion), funcion)"
   ]
  },
  {
   "cell_type": "code",
   "execution_count": 9,
   "metadata": {},
   "outputs": [
    {
     "data": {
      "image/png": "[encoded data removed]",
      "text/plain": [
       "<Figure size 432x288 with 1 Axes>"
      ]
     },
     "metadata": {
      "needs_background": "light"
     },
     "output_type": "display_data"
    }
   ],
   "source": [
    "plt.plot(x,eval(funcion))\n",
    "plt.show()"
   ]
  },
  {
   "cell_type": "code",
   "execution_count": null,
   "metadata": {},
   "outputs": [],
   "source": []
  }
 ],
 "metadata": {
  "kernelspec": {
   "display_name": "Python 3",
   "language": "python",
   "name": "python3"
  },
  "language_info": {
   "codemirror_mode": {
    "name": "ipython",
    "version": 3
   },
   "file_extension": ".py",
   "mimetype": "text/x-python",
   "name": "python",
   "nbconvert_exporter": "python",
   "pygments_lexer": "ipython3",
   "version": "3.7.2"
  }
 },
 "nbformat": 4,
 "nbformat_minor": 2
}

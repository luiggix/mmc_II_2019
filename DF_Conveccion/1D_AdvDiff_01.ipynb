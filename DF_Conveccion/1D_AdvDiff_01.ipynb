{
 "cells": [
  {
   "cell_type": "code",
   "execution_count": 1,
   "metadata": {},
   "outputs": [],
   "source": [
    "import numpy as np\n",
    "import matplotlib.pyplot as plt\n",
    "%matplotlib inline"
   ]
  },
  {
   "cell_type": "code",
   "execution_count": 8,
   "metadata": {},
   "outputs": [],
   "source": [
    "def mesh(L,N):\n",
    "    x = np.linspace(0,L,N+2)\n",
    "    return (L / (N+1), x)"
   ]
  },
  {
   "cell_type": "code",
   "execution_count": 2,
   "metadata": {},
   "outputs": [],
   "source": [
    "def Laplaciano1D(N, h, Gamma, rho, v):\n",
    "    a =  Gamma / h**2\n",
    "    b =  rho * v / (2*h)\n",
    "    A = np.zeros((N,N))\n",
    "    A[0,0] = 2 * a \n",
    "    A[0,1] = b - a\n",
    "    for i in range(1,N-1):\n",
    "        A[i,i] = 2 * a \n",
    "        A[i,i+1] = b - a\n",
    "        A[i,i-1] = -b - a\n",
    "    A[N-1,N-2] = -b - a\n",
    "    A[N-1,N-1] = 2 * a\n",
    "    return A"
   ]
  },
  {
   "cell_type": "code",
   "execution_count": 3,
   "metadata": {},
   "outputs": [],
   "source": [
    "def plotSol(x, u, xa, ua, style='classic'):\n",
    "    with plt.style.context(style):\n",
    "        plt.figure(figsize=(10,5))\n",
    "        plt.scatter(x,u, zorder=5, s=100, fc='C1', ec='k', alpha=0.75, label='Numérica')\n",
    "        plt.plot(x,u, 'C1--', lw=1.0)\n",
    "        plt.plot(xa,ua,'k-', label='Analítica')\n",
    "        plt.xlabel('x [m]')\n",
    "        plt.ylabel('u')\n",
    "        plt.grid()\n",
    "        plt.legend(bbox_to_anchor=(1.05, 1), loc='upper left')\n",
    "    plt.show()"
   ]
  },
  {
   "cell_type": "code",
   "execution_count": 4,
   "metadata": {},
   "outputs": [],
   "source": [
    "def analyticSol(par, NP = 100):\n",
    "    L     = par['L']\n",
    "    rho   = par['rho']\n",
    "    v     = par['v']\n",
    "    Gamma = par['Gamma']\n",
    "    phi0  = par['BC'][0]\n",
    "    phiL  = par['BC'][1]\n",
    "    \n",
    "    xa = np.linspace(0, L, NP)\n",
    "    ua = (np.exp(rho * v * xa / Gamma) - 1) / (np.exp(rho * v * L / Gamma) - 1) * (phiL - phi0) + phi0\n",
    "    return (xa, ua) "
   ]
  },
  {
   "cell_type": "code",
   "execution_count": 5,
   "metadata": {},
   "outputs": [],
   "source": [
    "def fdmSol(par):\n",
    "    L     = par['L']\n",
    "    Gamma = par['Gamma']\n",
    "    rho   = par['rho']\n",
    "    v     = par['v']\n",
    "    N     = par['N']\n",
    "    phi0  = par['BC'][0]\n",
    "    phiL  = par['BC'][1]\n",
    "    h     = par['h']\n",
    "    \n",
    "    f = np.zeros(N)         \n",
    "    A = Laplaciano1D(N, h, Gamma, rho, v) \n",
    "\n",
    "    f[0]   =  phi0 * (rho * v / (2*h) + Gamma / h**2) \n",
    "    f[N-1] = -phiL * (rho * v / (2*h) - Gamma / h**2)\n",
    "\n",
    "    u = np.zeros(N+2)\n",
    "\n",
    "    u[1:N+1] = np.linalg.solve(A,f)\n",
    "\n",
    "    u[0] = phi0\n",
    "    u[N+1] = phiL\n",
    "\n",
    "    return u"
   ]
  },
  {
   "cell_type": "code",
   "execution_count": 18,
   "metadata": {},
   "outputs": [
    {
     "data": {
      "image/png": "[encoded data removed]",
      "text/plain": [
       "<Figure size 720x360 with 1 Axes>"
      ]
     },
     "metadata": {
      "needs_background": "light"
     },
     "output_type": "display_data"
    }
   ],
   "source": [
    "par = {}\n",
    "par['L']     = 1.0 # m\n",
    "par['rho']   = 1.0 # kg/m^3\n",
    "par['v']     = 3.5 # m/s\n",
    "par['Gamma'] = 0.1 # kg / m.s\n",
    "par['BC']    = (1.0, 0.0)\n",
    "par['N']     = 20 # Número de incógnitas\n",
    "\n",
    "h, x = mesh(par['L'], par['N'])\n",
    "\n",
    "par['h'] = h\n",
    "\n",
    "par\n",
    "xa, ua = analyticSol(par)\n",
    "\n",
    "plotSol(x, fdmSol(par), xa, ua, 'seaborn-talk')"
   ]
  },
  {
   "cell_type": "code",
   "execution_count": null,
   "metadata": {},
   "outputs": [],
   "source": []
  }
 ],
 "metadata": {
  "kernelspec": {
   "display_name": "Python 3",
   "language": "python",
   "name": "python3"
  },
  "language_info": {
   "codemirror_mode": {
    "name": "ipython",
    "version": 3
   },
   "file_extension": ".py",
   "mimetype": "text/x-python",
   "name": "python",
   "nbconvert_exporter": "python",
   "pygments_lexer": "ipython3",
   "version": "3.7.6"
  }
 },
 "nbformat": 4,
 "nbformat_minor": 4
}

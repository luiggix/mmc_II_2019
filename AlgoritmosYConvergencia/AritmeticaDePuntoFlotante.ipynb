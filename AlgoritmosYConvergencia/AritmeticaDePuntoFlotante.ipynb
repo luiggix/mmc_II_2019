{
 "cells": [
  {
   "cell_type": "markdown",
   "metadata": {},
   "source": [
    "#### [Python Ver.: 3.6.x] | [Autor: Luis Miguel de la Cruz Salas]\n",
    "\n",
    "# Aritmética de Punto flotante\n",
    "\n",
    "- La aritmética que se realiza en una computadora digital es diferente de la que se usa en matemáticas.\n",
    "    - 2 + 2 = 4\n",
    "    - $4^2$ = 16\n",
    "    - $\\left(\\sqrt{3}\\right)^2$ = 3 ?"
   ]
  },
  {
   "cell_type": "code",
   "execution_count": null,
   "metadata": {},
   "outputs": [],
   "source": [
    "2 + 2 "
   ]
  },
  {
   "cell_type": "code",
   "execution_count": null,
   "metadata": {},
   "outputs": [],
   "source": [
    "4**2"
   ]
  },
  {
   "cell_type": "code",
   "execution_count": null,
   "metadata": {},
   "outputs": [],
   "source": [
    "import math\n",
    "math.sqrt(3)**2"
   ]
  },
  {
   "cell_type": "markdown",
   "metadata": {},
   "source": [
    "- En la aritmética continua se permite que un número real pueda tener un número infinito de dígitos.\n",
    "\n",
    "$$\\frac{1}{3} = 0.3333333 \\dots 33333 \\dots $$\n",
    "\n",
    "- Una computadora solo puede representar un subconjunto de los números reales, el cual solo contiene números racionales (positivos y negativos)."
   ]
  },
  {
   "cell_type": "code",
   "execution_count": null,
   "metadata": {},
   "outputs": [],
   "source": [
    "1/3"
   ]
  },
  {
   "cell_type": "code",
   "execution_count": null,
   "metadata": {},
   "outputs": [],
   "source": [
    "format(1/3, '.52f')"
   ]
  },
  {
   "cell_type": "markdown",
   "metadata": {},
   "source": [
    "- Las computadoras cuentan con una cierta capacidad finita para almacenar información. \n",
    "\n",
    "- Los números reales se representan mediante los llamados **números de punto flotante** (*floating point numbers*) usando las siguentes características:\n",
    "\n",
    "    1. Signo **+** o **-** .\n",
    "    2. Mantisa con $t$ dígitos; donde $t$ es un entero positivo mayor o igual a 1.\n",
    "    3. Base $\\beta$; donde $\\beta$ es un entero positivo mayor que 1\n",
    "    4. Exponente $e$; donde $m \\le e \\le M$ con $m \\le 0$ y $M > t$ <br><br>\n",
    "\n",
    "- Cada número de punto flotante se representa como:\n",
    "    $$\n",
    "    \\pm .d_1d_2d_3\\dots d_t \\times \\beta^e\n",
    "    $$\n",
    "    donde $0 \\le d_i \\le \\beta - 1 \\,\\,\\, (i= 1,2,3,\\dots , t)$\n",
    "- La forma normalizada ocurre cuando $d_1 \\neq 0$\n",
    "\n",
    "- El número de dígitos en la mantisa es finito, lo que propicia un error en la representación y en las operaciones aritméticas\n",
    "\n",
    "### Por ejemplo\n",
    "**IBM 3000 series**\n",
    "\n",
    "- Sistema numérico de punto flotante (SNPF) de simple precisión: 1 dígito binario (bit) para el signo, 7 bits para el exponente en base 16, y 24 bits para la mantisa.\n",
    "    - 24 dígitos binarios corresponde a $\\approx$ 6 dígitos decimales.\n",
    "    - El exponente va de 0000000 = 0 a 1111111 = 127. \n",
    "    - Para asegurar la representación de números de magnitud pequeña, se resta 64 al exponente, de tal manera que el rango en realidad es de -64 a 63.\n",
    "    - Por ejemplo:\n",
    "\n",
    "|Signo|$$e$$|$$t$$|\n",
    "|---|---|---|\n",
    "|0|1000010|101100110000010000000000|\n",
    "| | | |\n",
    "\n",
    "$$\n",
    "1000010 = 1 \\cdot 2^6 + 0 \\cdot 2^5 + 0 \\cdot 0^4 + 0 \\cdot 2^3 + \n",
    "0 \\cdot 2^2 + 1 \\cdot 2^1 + 0 \\cdot 2^0  = 66\n",
    "\\Longrightarrow 16^{66-64}.\n",
    "$$\n",
    "\n",
    "$$\n",
    "\\left[\n",
    "\\left(\\frac{1}{2}\\right)^1 + \\left(\\frac{1}{2}\\right)^3 +\n",
    "\\left(\\frac{1}{2}\\right)^4 + \\left(\\frac{1}{2}\\right)^7 +\n",
    "\\left(\\frac{1}{2}\\right)^8 + \\left(\\frac{1}{2}\\right)^{14} \n",
    "\\right] 16^{66-64} = 179.015625\n",
    "$$\n",
    "\n",
    "- En este sistema, el siguiente número más pequeño y el siguiente más grande son:\n",
    "\n",
    "\n",
    "|0 |1000010 |101100110000001111111111 | = | 179.0156097412109375 |\n",
    "|---|---|---|---|---|\n",
    "|0 |1000010 |101100110000010000000001 | = | 179.0156402587890625 |\n",
    "\n",
    "$$\n",
    "\\Longrightarrow  179.015625 \\mbox{ representa } [179.0156097412109375, 179.0156402587890625]\n",
    "$$\n",
    "\n",
    "<img src=\"floatingNumbers.png\" alt=\"Smiley\">\n",
    "\n",
    "- En 1985, el IEEE (Institute for Electrical and Electronic Engineers) publicó: *Binary Floating Point Arithmetic Standard 754, 1985 *.\n",
    "- Se especifican los formatos para precisión simple, doble y extendida, y esos estándares son usados por muchos constructores de CPUs."
   ]
  },
  {
   "cell_type": "code",
   "execution_count": null,
   "metadata": {},
   "outputs": [],
   "source": [
    "1/10 # El resultado que imprime se ve correcto\n",
    "     # pero el resultado de la operación es \n",
    "     # la fracción binaria representable más cercana\n",
    "     # al valor correcto."
   ]
  },
  {
   "cell_type": "code",
   "execution_count": null,
   "metadata": {},
   "outputs": [],
   "source": [
    "format(1/10, '.52f') # Esto da una idea de lo que está almacenado"
   ]
  },
  {
   "cell_type": "code",
   "execution_count": null,
   "metadata": {},
   "outputs": [],
   "source": [
    "format(0.1, '.52f')"
   ]
  },
  {
   "cell_type": "code",
   "execution_count": null,
   "metadata": {},
   "outputs": [],
   "source": [
    "format(3602879701896397 / 2 ** 55, '.52f')"
   ]
  },
  {
   "cell_type": "markdown",
   "metadata": {},
   "source": [
    "Observamos que el 0.1 y el $\\dfrac{3602879701896397}{2^{55}}$ comparten la misma representación"
   ]
  },
  {
   "cell_type": "code",
   "execution_count": null,
   "metadata": {},
   "outputs": [],
   "source": [
    "print(str(math.pi))            # Se redondea el valor real almacenado\n",
    "print(repr(math.pi))           # para propósitos de despliegue \n",
    "print(format(math.pi, '.52f')) # "
   ]
  },
  {
   "cell_type": "markdown",
   "metadata": {},
   "source": [
    "### Ejercicio:\n",
    "¿Que resultará de las siguientes evaluaciones?:\n",
    "```python\n",
    "0.1 == 1/10\n",
    "0.1 == repr(1/10)\n",
    "repr(0.1) == 1/10\n",
    ".1 + .1 + .1\n",
    "round(.1, 1) + round(.1, 1) + round(.1, 1) == round(.3, 1)\n",
    "```\n",
    "Explique el resultado de las evaluaciones.\n",
    "\n",
    "**Hint**: Checar el valor más aproximado almacenado en memoria usando por ejemplo `format(0.1,'.53f')`"
   ]
  },
  {
   "cell_type": "code",
   "execution_count": 2,
   "metadata": {},
   "outputs": [
    {
     "data": {
      "text/plain": [
       "True"
      ]
     },
     "execution_count": 2,
     "metadata": {},
     "output_type": "execute_result"
    }
   ],
   "source": [
    "0.1 == 1/10"
   ]
  },
  {
   "cell_type": "code",
   "execution_count": 3,
   "metadata": {},
   "outputs": [
    {
     "data": {
      "text/plain": [
       "False"
      ]
     },
     "execution_count": 3,
     "metadata": {},
     "output_type": "execute_result"
    }
   ],
   "source": [
    "0.1 == repr(1/10) # Por qué esto da como resultado False?"
   ]
  },
  {
   "cell_type": "code",
   "execution_count": null,
   "metadata": {},
   "outputs": [],
   "source": [
    "repr(0.1) == 1/10 # Por qué esto da como resultado False?"
   ]
  },
  {
   "cell_type": "code",
   "execution_count": null,
   "metadata": {},
   "outputs": [],
   "source": [
    "0.1 + 0.1 + 0.1 == 0.3"
   ]
  },
  {
   "cell_type": "code",
   "execution_count": null,
   "metadata": {},
   "outputs": [],
   "source": [
    "round(.1, 1) + round(.1, 1) + round(.1, 1) == round(.3, 1)"
   ]
  },
  {
   "cell_type": "code",
   "execution_count": null,
   "metadata": {},
   "outputs": [],
   "source": [
    "round(.1 + .1 + .1, 10) == round(.3, 10)"
   ]
  },
  {
   "cell_type": "markdown",
   "metadata": {},
   "source": [
    "## Algunas funciones útiles"
   ]
  },
  {
   "cell_type": "code",
   "execution_count": null,
   "metadata": {},
   "outputs": [],
   "source": [
    "x = 3.14159\n",
    "x.as_integer_ratio() # regresa los enteros usados para \n",
    "                     # la representación del número flotante "
   ]
  },
  {
   "cell_type": "code",
   "execution_count": null,
   "metadata": {},
   "outputs": [],
   "source": [
    "3537115888337719 / 1125899906842624"
   ]
  },
  {
   "cell_type": "code",
   "execution_count": null,
   "metadata": {},
   "outputs": [],
   "source": [
    "x.hex() # Convierte el flotante a hexadecimal"
   ]
  },
  {
   "cell_type": "code",
   "execution_count": null,
   "metadata": {},
   "outputs": [],
   "source": [
    "float.fromhex('0x1.921f9f01b866ep+1') # convierte el hexadecimal a flotante"
   ]
  },
  {
   "cell_type": "code",
   "execution_count": null,
   "metadata": {},
   "outputs": [],
   "source": [
    "x == float.fromhex('0x1.921f9f01b866ep+1')"
   ]
  },
  {
   "cell_type": "markdown",
   "metadata": {},
   "source": [
    "El uso de hexadecimales es útil para portabilidad de valores entre diferentes versiones de Python y para el intercambio de información con otros lenguajes."
   ]
  },
  {
   "cell_type": "markdown",
   "metadata": {},
   "source": [
    "- Algunas opciones para realizar las operaciones con *más confianza* en los resultados:\n",
    "    - La función <font color=##009900>**round()**</font>\n",
    "    - El módulo <font color=##009900>**decimal**</font> \n",
    "    - El módulo <font color=##009900>**fractions**<font>"
   ]
  },
  {
   "cell_type": "markdown",
   "metadata": {},
   "source": [
    "## Round"
   ]
  },
  {
   "cell_type": "code",
   "execution_count": null,
   "metadata": {},
   "outputs": [],
   "source": [
    "print(\"(0.1 + 0.1 + 0.1 == 0.3) ?\")\n",
    "print(round(0.1 + 0.1 + 0.1, 5) == round(0.3, 5))\n",
    "print(round(10.33333, 3))\n",
    "print(round(1/3,8))"
   ]
  },
  {
   "cell_type": "code",
   "execution_count": null,
   "metadata": {},
   "outputs": [],
   "source": [
    "print('{: .3f}'.format(10.34123)) # ¿?"
   ]
  },
  {
   "cell_type": "markdown",
   "metadata": {},
   "source": [
    "## Decimal"
   ]
  },
  {
   "cell_type": "code",
   "execution_count": null,
   "metadata": {},
   "outputs": [],
   "source": [
    "from decimal import getcontext, Decimal\n",
    "from math import pi\n",
    "\n",
    "print(getcontext())\n",
    "\n",
    "print('<'+'-'*20+'>')\n",
    "\n",
    "getcontext().prec = 5\n",
    "print(Decimal(1)/Decimal(3))\n",
    "\n",
    "print('<'+'-'*20+'>')\n",
    "\n",
    "getcontext().prec = 30\n",
    "print(Decimal(pi))\n"
   ]
  },
  {
   "cell_type": "markdown",
   "metadata": {},
   "source": [
    "- <font color=##009900>**getcontext()**</font> permite especificar la precisión y la técnica de redondeo que se usará. \n",
    "\n",
    "- Por omisión la técnica es ROUND_HALF_EVEN.\n"
   ]
  },
  {
   "cell_type": "markdown",
   "metadata": {},
   "source": [
    "# Fractions"
   ]
  },
  {
   "cell_type": "code",
   "execution_count": 1,
   "metadata": {},
   "outputs": [
    {
     "name": "stdout",
     "output_type": "stream",
     "text": [
      "num1 = 2/3 and num2 = 1/3\n",
      "1\n",
      "1/3\n",
      "20/3\n",
      "2\n"
     ]
    }
   ],
   "source": [
    "from fractions import Fraction\n",
    "\n",
    "num1 = Fraction(2,3)\n",
    "num2 = Fraction(1,3)\n",
    "\n",
    "print(\"num1 = {} and num2 = {}\".format(num1,num2))\n",
    "\n",
    "print(num1 + num2)\n",
    "\n",
    "print(num1 - num2)\n",
    "\n",
    "print(num1*10)\n",
    "\n",
    "print(num1/num2)\n"
   ]
  },
  {
   "cell_type": "markdown",
   "metadata": {},
   "source": [
    "## Características del SNPF en Python 3\n",
    "\n",
    "<font color=##009900>**NumPy**</font> soporta una variedad más amplia de tipos numéricos.\n",
    "\n",
    "<img src=\"dataTypes.png\" alt=\"Smiley\">\n"
   ]
  },
  {
   "cell_type": "code",
   "execution_count": null,
   "metadata": {
    "scrolled": true
   },
   "outputs": [],
   "source": [
    "import numpy as np\n",
    "x = np.float64(0.1)\n",
    "print(format(x,'.52f'))\n",
    "print(type(x))\n",
    "\n",
    "y = np.int_([1,2,4])\n",
    "print(y)\n",
    "print(type(y))\n",
    "print(type(y[1]))\n",
    "\n",
    "z = np.arange(3, dtype=np.uint8)\n",
    "print(z)\n",
    "print(type(z))\n",
    "print(type(z[0]))"
   ]
  },
  {
   "cell_type": "code",
   "execution_count": null,
   "metadata": {},
   "outputs": [],
   "source": [
    "xd = math.pi\n",
    "print(format(xd,'.52f'))\n",
    "print(type(xd))\n",
    "\n",
    "xdd = np.float64(xd)\n",
    "print(format(xdd,'.52f'))\n",
    "print(type(xdd))"
   ]
  },
  {
   "cell_type": "code",
   "execution_count": null,
   "metadata": {
    "scrolled": true
   },
   "outputs": [],
   "source": [
    "np.finfo(np.float)"
   ]
  },
  {
   "cell_type": "code",
   "execution_count": null,
   "metadata": {
    "scrolled": true
   },
   "outputs": [],
   "source": [
    "np.finfo(np.float64)"
   ]
  },
  {
   "cell_type": "code",
   "execution_count": null,
   "metadata": {
    "scrolled": true
   },
   "outputs": [],
   "source": [
    "np.finfo(np.float64).eps"
   ]
  },
  {
   "cell_type": "code",
   "execution_count": null,
   "metadata": {
    "scrolled": true
   },
   "outputs": [],
   "source": [
    "np.finfo(np.float64).nmant"
   ]
  },
  {
   "cell_type": "markdown",
   "metadata": {
    "collapsed": true
   },
   "source": [
    "- Para entender esto con mayor detalle véase:\n",
    "    - http://www.lahey.com/float.htm\n",
    "    - https://docs.oracle.com/cd/E19957-01/806-3568/ncg_goldberg.html"
   ]
  }
 ],
 "metadata": {
  "kernelspec": {
   "display_name": "Python 3",
   "language": "python",
   "name": "python3"
  },
  "language_info": {
   "codemirror_mode": {
    "name": "ipython",
    "version": 3
   },
   "file_extension": ".py",
   "mimetype": "text/x-python",
   "name": "python",
   "nbconvert_exporter": "python",
   "pygments_lexer": "ipython3",
   "version": "3.7.6"
  }
 },
 "nbformat": 4,
 "nbformat_minor": 2
}

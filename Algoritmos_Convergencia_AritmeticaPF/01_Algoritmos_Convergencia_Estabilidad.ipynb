{
 "cells": [
  {
   "cell_type": "markdown",
   "metadata": {},
   "source": [
    "# Algoritmos, Convergencia, Estabilidad\n",
    "## Geofísica Matemática y Computacional\n",
    "- Prof. Luis Miguel de la Cruz Salas\n",
    "- Rev: lun sep 28 20:17:37 CDT 2020"
   ]
  },
  {
   "cell_type": "markdown",
   "metadata": {},
   "source": [
    "## Algoritmo inestable\n",
    "\n",
    "Calcular la integral\n",
    "\n",
    "$$\n",
    "y_n = \\int_{0}^{1} \\frac{x^n}{x+5} dx\n",
    "$$\n",
    "\n",
    "para $n = 0, 1, 2, 3, \\dots$"
   ]
  },
  {
   "cell_type": "code",
   "execution_count": null,
   "metadata": {},
   "outputs": [],
   "source": [
    "import numpy as np\n",
    "import matplotlib.pyplot as plt\n",
    "%matplotlib inline"
   ]
  },
  {
   "cell_type": "code",
   "execution_count": null,
   "metadata": {},
   "outputs": [],
   "source": [
    "def dyn(x, n):\n",
    "    \"\"\"\n",
    "    Derivada de la integral y_n.\n",
    "    \"\"\"\n",
    "    return x ** n / (x + 5)"
   ]
  },
  {
   "cell_type": "code",
   "execution_count": null,
   "metadata": {},
   "outputs": [],
   "source": [
    "# ¿Qué pasa cuando n = 0?\n",
    "n = 0\n",
    "x = np.linspace(0,1,20)\n",
    "y = dyn(x,n)"
   ]
  },
  {
   "cell_type": "code",
   "execution_count": null,
   "metadata": {},
   "outputs": [],
   "source": [
    "print(x)\n",
    "print(y)"
   ]
  },
  {
   "cell_type": "code",
   "execution_count": null,
   "metadata": {},
   "outputs": [],
   "source": [
    "plt.plot(x,y)"
   ]
  },
  {
   "cell_type": "code",
   "execution_count": null,
   "metadata": {},
   "outputs": [],
   "source": [
    "# ¿Qué pasa cuando n = 0,1,2,3,4, ...?\n",
    "for n in range(0,5):\n",
    "    plt.plot(x, dyn(x,n))"
   ]
  },
  {
   "cell_type": "code",
   "execution_count": null,
   "metadata": {},
   "outputs": [],
   "source": [
    "# Decoramos la gráfica ;)\n",
    "plt.figure(figsize=(10,5))\n",
    "for n in range(0,5):\n",
    "    plt.plot(x, dyn(x,n), lw = 3, label='$y_{}$ = $x^{} / (x + 5)$'.format(n, n))\n",
    "\n",
    "plt.title(r'$dy_n = \\frac{x^n}{x + 5}$', fontsize=20)\n",
    "plt.xlabel('$x$', fontsize=20)\n",
    "plt.ylabel('$dyn$', fontsize=20)\n",
    "plt.ylim(-0.01,0.35)\n",
    "plt.legend(loc='best', ncol=1)\n",
    "plt.grid()\n",
    "#plt.savefig('Ejemplo01.png')\n",
    "plt.show()"
   ]
  },
  {
   "cell_type": "markdown",
   "metadata": {},
   "source": [
    "Calcular la integral usando el siguiente algoritmo:\n",
    "\n",
    "$$\n",
    "y_n + 5 y_{n-1} =  \\frac{1}{n}\n",
    "$$\n",
    "\n",
    "Cuando $n=0$ y redondeando a tres cifras:\n",
    "\n",
    "$$\n",
    "y_0 = \\int_{0}^{1} \\frac{1}{x+5} dx = \\big[\\ln(x+5)\\big]_0^1 = \\ln 6 - \\ln 5 \\approx 0.182\n",
    "$$\n",
    "\n",
    "$y_0$ es nuestra condición inicial."
   ]
  },
  {
   "cell_type": "code",
   "execution_count": null,
   "metadata": {},
   "outputs": [],
   "source": [
    "# Implementación del algoritmo\n",
    "\n",
    "# r es el número de cifras significativas\n",
    "r = 100\n",
    "\n",
    "# y0 es la condición inicial\n",
    "y0 = round(np.log(6) - np.log(5), r)\n",
    "\n",
    "def inestable(y, n):\n",
    "    \"\"\"\n",
    "    Algoritmo inestable para calcular la integral.\n",
    "    \"\"\"\n",
    "    return (1.0 / n) - 5 * y[n-1]\n",
    "\n",
    "# Metemos la solución en una lista. \n",
    "# El primer valor es la condición inicial.\n",
    "y = [y0]\n",
    "\n",
    "# N es el número de iteraciones\n",
    "N = 21\n",
    "\n",
    "# Cálculamos las integrales de 1 a N-1 y guardamos el resultado en la lista.\n",
    "for i in range(1,N):\n",
    "    y.append(inestable(y, i))\n",
    "\n",
    "nil = [print('y[{:>2}] = {:>6.10f}'.format(i,y[i])) for i in range(N)]"
   ]
  },
  {
   "cell_type": "code",
   "execution_count": null,
   "metadata": {},
   "outputs": [],
   "source": [
    "# Veamos las integrales gráficamente\n",
    "plt.plot(y, 'o--')\n",
    "plt.show()"
   ]
  },
  {
   "cell_type": "code",
   "execution_count": null,
   "metadata": {},
   "outputs": [],
   "source": [
    "plt.plot(y, 'o--')\n",
    "plt.title('N={}, Redondeo: {}'.format(N,r), fontsize = 20)\n",
    "plt.xticks([i for i in range(N)])\n",
    "plt.ylabel('$y_n$',fontsize=20)\n",
    "plt.xlabel('$n$', fontsize=20)\n",
    "plt.yticks(fontsize=12)\n",
    "#plt.savefig('Ejemplo02_4.png')\n",
    "plt.show()"
   ]
  },
  {
   "cell_type": "markdown",
   "metadata": {},
   "source": [
    "## Algoritmo condicionalmente estable\n",
    "\n",
    "La siguiente ODE:\n",
    "$$\n",
    "\\frac{d}{dt}y(t) = -a y(t), \\,\\,\\,\\,\\, y(0) = 1, \\,\\,\\,\\,\\, a > 0\n",
    "$$\n",
    "\n",
    "tiene solución analítica: $y(t) = e^{-at}$ y es positiva para toda $t$.\n",
    "\n",
    "También se puede aproximar la solución mediante el siguiente algoritmo numérico:\n",
    "se designa $y$ como la solución exacta y $y_n \\approx y(t_n)$ la solución numérica, para \n",
    "$t_n = n \\Delta t$ con $n=0,1,2,\\dots, N$ y $\\Delta t$ un paso de tiempo, entonces:\n",
    "\n",
    "$$\n",
    "\\frac{y_{n+1}-y_n}{\\Delta t} = -a y_n, \\,\\,\\,\\,\\, y_0 = 1\n",
    "$$\n",
    "\n",
    "$$\n",
    "y_{n+1} = (1 - a \\Delta t ) y_n \\quad \\text{ para } n=0,1,2,\\dots, N\n",
    "$$"
   ]
  },
  {
   "cell_type": "code",
   "execution_count": null,
   "metadata": {},
   "outputs": [],
   "source": [
    "def exacta(a, t):\n",
    "    \"\"\"\n",
    "    Solución exacta.\n",
    "    \"\"\"\n",
    "    return np.exp(-a * t)\n",
    "\n",
    "# Datos de entrada para el algoritmo\n",
    "Tmax = 10.0\n",
    "dt = 0.1\n",
    "N = int(Tmax/dt)\n",
    "a = 2.0\n",
    "\n",
    "# Dominio de la solución\n",
    "t = np.arange(0, Tmax, dt)\n",
    "\n",
    "# Solución exacta\n",
    "y = exacta(a, t)\n",
    "\n",
    "# Arreglo para la solución numérica\n",
    "yn = np.ones(N)\n",
    "\n",
    "# Algoritmo numérico\n",
    "for i in range(1,N):\n",
    "    yn[i] = (1 - a * dt) * yn[i-1]\n",
    "\n",
    "nil = [print('y[{:>2}] = {:>15.14f}'.format(i,yn[i])) for i in range(N)]"
   ]
  },
  {
   "cell_type": "code",
   "execution_count": null,
   "metadata": {},
   "outputs": [],
   "source": [
    "# Graficamos la solución\n",
    "plt.plot(t, y, lw=3, label='Exacta')\n",
    "plt.plot(t, yn, lw=3, label='Numérica')\n",
    "#plt.scatter(t, yn, color='k', zorder=5)\n",
    "\n",
    "plt.xlim(-0.5,10)\n",
    "plt.xlabel('$t$', fontsize=18)\n",
    "plt.ylabel('$y, y_n$', fontsize=18)\n",
    "\n",
    "texto = '$\\Delta t$ = {}, a = {}'.format(dt, a)\n",
    "plt.text(3,0.6, texto, fontdict = {'fontsize':20})\n",
    "\n",
    "plt.legend()\n",
    "plt.show()\n",
    "#plt.savefig('Ejemplo03_1.png')\n"
   ]
  },
  {
   "cell_type": "code",
   "execution_count": null,
   "metadata": {},
   "outputs": [],
   "source": [
    "def solNumerica(a, Tmax, dt):\n",
    "    N = int(Tmax / dt) \n",
    "    t = np.arange(0, Tmax, dt)\n",
    "    y = exacta(a, t)\n",
    "    N = len(t)\n",
    "    yn = np.ones(N)\n",
    "\n",
    "    # Algoritmo numérico\n",
    "    for i in range(1,N):\n",
    "        yn[i] = (1 - a * dt) * yn[i-1]\n",
    "\n",
    "    # Graficación\n",
    "    plt.plot(t, y, lw=3, label='Exacta')\n",
    "    plt.plot(t, yn, lw=3, label='Numérica')\n",
    "    plt.scatter(t, yn, color='k', zorder=5)\n",
    "\n",
    "    plt.xlim(-0.5,10)\n",
    "    plt.xlabel('$t$', fontsize=18)\n",
    "    plt.ylabel('$y, y_n$', fontsize=18)\n",
    "\n",
    "    texto = '$\\Delta t$ = {}, a = {}'.format(dt, a)\n",
    "    plt.text(3,0.6, texto, fontdict = {'fontsize':20})\n",
    "    plt.legend()\n",
    "    plt.show()"
   ]
  },
  {
   "cell_type": "code",
   "execution_count": null,
   "metadata": {},
   "outputs": [],
   "source": [
    "a = 2.0\n",
    "dt = 0.3\n",
    "\n",
    "solNumerica(a, Tmax, dt)"
   ]
  },
  {
   "cell_type": "code",
   "execution_count": null,
   "metadata": {},
   "outputs": [],
   "source": [
    "from ipywidgets import interact, fixed\n",
    "import ipywidgets as widgets"
   ]
  },
  {
   "cell_type": "code",
   "execution_count": null,
   "metadata": {},
   "outputs": [],
   "source": [
    "w = interact(solNumerica, #a = 2.0, Tmax = 10, dt = 0.1)          \n",
    "             a = widgets.FloatSlider(min=1, max=4, step=0.5, value=1),\n",
    "             Tmax = fixed(Tmax),\n",
    "             dt = widgets.FloatSlider(min=0.1, max=2.0, step=0.1, value=0.5))\n",
    "\n",
    "display(w)"
   ]
  },
  {
   "cell_type": "code",
   "execution_count": null,
   "metadata": {},
   "outputs": [],
   "source": []
  }
 ],
 "metadata": {
  "kernelspec": {
   "display_name": "Python 3",
   "language": "python",
   "name": "python3"
  },
  "language_info": {
   "codemirror_mode": {
    "name": "ipython",
    "version": 3
   },
   "file_extension": ".py",
   "mimetype": "text/x-python",
   "name": "python",
   "nbconvert_exporter": "python",
   "pygments_lexer": "ipython3",
   "version": "3.7.6"
  }
 },
 "nbformat": 4,
 "nbformat_minor": 4
}

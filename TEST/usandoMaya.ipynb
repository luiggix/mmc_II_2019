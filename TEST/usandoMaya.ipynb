{
 "cells": [
  {
   "cell_type": "code",
   "execution_count": 10,
   "metadata": {},
   "outputs": [
    {
     "name": "stdout",
     "output_type": "stream",
     "text": [
      "[ 0.   2.5  5.   7.5 10. ] [ 0.   2.5  5.   7.5 10. ]\n",
      "1.6666666666666667 1.6666666666666667\n"
     ]
    }
   ],
   "source": [
    "import maya\n",
    "\n",
    "x,y = maya.mesh(0,10,0,10,5,5)\n",
    "\n",
    "hx, hy = maya.deltas(0,10,0,10,5,5)\n",
    "print(x,y)\n",
    "print(hx,hy)"
   ]
  },
  {
   "cell_type": "code",
   "execution_count": null,
   "metadata": {},
   "outputs": [],
   "source": []
  }
 ],
 "metadata": {
  "kernelspec": {
   "display_name": "Python 3",
   "language": "python",
   "name": "python3"
  },
  "language_info": {
   "codemirror_mode": {
    "name": "ipython",
    "version": 3
   },
   "file_extension": ".py",
   "mimetype": "text/x-python",
   "name": "python",
   "nbconvert_exporter": "python",
   "pygments_lexer": "ipython3",
   "version": "3.7.2"
  }
 },
 "nbformat": 4,
 "nbformat_minor": 2
}

{
 "cells": [
  {
   "cell_type": "code",
   "execution_count": 23,
   "metadata": {},
   "outputs": [
    {
     "name": "stdout",
     "output_type": "stream",
     "text": [
      "<class 'numpy.ndarray'>\n"
     ]
    }
   ],
   "source": [
    "import numpy as np\n",
    "N = 3\n",
    "x = np.arange(N)\n",
    "print(type(x))"
   ]
  },
  {
   "cell_type": "code",
   "execution_count": 24,
   "metadata": {},
   "outputs": [
    {
     "data": {
      "text/plain": [
       "array([0, 1, 2])"
      ]
     },
     "execution_count": 24,
     "metadata": {},
     "output_type": "execute_result"
    }
   ],
   "source": [
    "x"
   ]
  },
  {
   "cell_type": "code",
   "execution_count": 70,
   "metadata": {},
   "outputs": [],
   "source": [
    "A = np.array(([0.0,1.0,2.0],[3.0,4.0,5.0],[6.0,7.0,8.0]))"
   ]
  },
  {
   "cell_type": "code",
   "execution_count": 71,
   "metadata": {},
   "outputs": [
    {
     "data": {
      "text/plain": [
       "array([[0., 1., 2.],\n",
       "       [3., 4., 5.],\n",
       "       [6., 7., 8.]])"
      ]
     },
     "execution_count": 71,
     "metadata": {},
     "output_type": "execute_result"
    }
   ],
   "source": [
    "A"
   ]
  },
  {
   "cell_type": "code",
   "execution_count": 88,
   "metadata": {},
   "outputs": [],
   "source": [
    "import time\n",
    "N = 3000\n",
    "A = np.zeros((N,N))"
   ]
  },
  {
   "cell_type": "code",
   "execution_count": 91,
   "metadata": {},
   "outputs": [
    {
     "name": "stdout",
     "output_type": "stream",
     "text": [
      "---------- Row first ij --------------------------\n",
      "Elapsed time: 3.3 [s]\n",
      "CPU process time: 6.6 [s]\n",
      "--------------------------------------------------\n"
     ]
    }
   ],
   "source": [
    "t1_start = time.perf_counter()\n",
    "t2_start = time.process_time()\n",
    "for i in range(N):\n",
    "    for j in range(N):\n",
    "        A[i][j] = i\n",
    "t1_stop = time.perf_counter()\n",
    "t2_stop = time.process_time()\n",
    "\n",
    "print(\"---------- Row first ij --------------------------\")\n",
    "print(\"Elapsed time: %.1f [s]\" % (t1_stop-t1_start))\n",
    "print(\"CPU process time: %.1f [s]\" % (t2_stop-t2_start))\n",
    "print(\"--------------------------------------------------\") "
   ]
  },
  {
   "cell_type": "code",
   "execution_count": 92,
   "metadata": {},
   "outputs": [
    {
     "name": "stdout",
     "output_type": "stream",
     "text": [
      "---------- Col first ji --------------------------\n",
      "Elapsed time: 3.3 [s]\n",
      "CPU process time: 6.6 [s]\n",
      "--------------------------------------------------\n"
     ]
    }
   ],
   "source": [
    "t1_start = time.perf_counter()\n",
    "t2_start = time.process_time()\n",
    "for j in range(N):\n",
    "    for i in range(N):\n",
    "        A[i][j] = i\n",
    "t1_stop = time.perf_counter()\n",
    "t2_stop = time.process_time()\n",
    "\n",
    "print(\"---------- Col first ji --------------------------\")\n",
    "print(\"Elapsed time: %.1f [s]\" % (t1_stop-t1_start))\n",
    "print(\"CPU process time: %.1f [s]\" % (t2_stop-t2_start))\n",
    "print(\"--------------------------------------------------\") "
   ]
  },
  {
   "cell_type": "code",
   "execution_count": null,
   "metadata": {},
   "outputs": [],
   "source": []
  }
 ],
 "metadata": {
  "kernelspec": {
   "display_name": "Python 3",
   "language": "python",
   "name": "python3"
  },
  "language_info": {
   "codemirror_mode": {
    "name": "ipython",
    "version": 3
   },
   "file_extension": ".py",
   "mimetype": "text/x-python",
   "name": "python",
   "nbconvert_exporter": "python",
   "pygments_lexer": "ipython3",
   "version": "3.7.6"
  }
 },
 "nbformat": 4,
 "nbformat_minor": 2
}
